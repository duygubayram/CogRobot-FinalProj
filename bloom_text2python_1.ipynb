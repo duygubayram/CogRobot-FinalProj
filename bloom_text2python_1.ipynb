{
 "cells": [
  {
   "cell_type": "markdown",
   "id": "74032cac",
   "metadata": {},
   "source": [
    "# Generating Python Programs with Bloom"
   ]
  },
  {
   "cell_type": "markdown",
   "id": "8c51b88f",
   "metadata": {},
   "source": [
    "Get your key from [hugging hub](https://huggingface.co/docs/hub/security-tokens) and insert it to the ``InferenceAPI`` using the model tag ``bigscience/bloom`` to run the full 176B parameter Bloom text2text model on Hugging Face's infastructure."
   ]
  },
  {
   "cell_type": "code",
   "execution_count": 3,
   "id": "893c77c0",
   "metadata": {},
   "outputs": [],
   "source": [
    "from huggingface_hub import InferenceApi\n",
    "\n",
    "inference = InferenceApi(\"bigscience/bloom\",token='')"
   ]
  },
  {
   "cell_type": "markdown",
   "id": "f85f4e42",
   "metadata": {},
   "source": [
    "## Inference wrapper"
   ]
  },
  {
   "cell_type": "markdown",
   "id": "2da5c3ab",
   "metadata": {},
   "source": [
    "Wrap up inference into a function call ``infer_greedy``, which picks the most likely token to finish a given sentence. Notice that the prompt is given as separate input, and ``stop_tokens`` can be given to stop text generation when a specific token is found."
   ]
  },
  {
   "cell_type": "code",
   "execution_count": 4,
   "id": "664c534a",
   "metadata": {},
   "outputs": [],
   "source": [
    "import time\n",
    "\n",
    "def infer_greedy(prompt,\n",
    "                 query,\n",
    "                 stop_tokens = None,\n",
    "                 max_length = 128,\n",
    "                 temperature=1.,\n",
    "                 return_full_text = False,\n",
    "                 verbose = False\n",
    "):\n",
    "    \n",
    "    new_prompt = f'{prompt}\\n{query}\\n'\n",
    "\n",
    "    params = {\n",
    "        \"max_new_tokens\": max_length,\n",
    "        \"top_k\": None,\n",
    "        \"top_p\": None,\n",
    "        \"temperature\": temperature,\n",
    "        \"do_sample\": False,\n",
    "        \"seed\": 42, #useless\n",
    "        \"early_stopping\":None,\n",
    "        \"no_repeat_ngram_size\":None,\n",
    "        \"num_beams\":None,\n",
    "        \"return_full_text\":return_full_text\n",
    "    }\n",
    "    s = time.time()\n",
    "    response = inference(new_prompt, params=params)\n",
    "    proc_time = time.time()-s\n",
    "    if verbose:\n",
    "        print(f\"Inference time {proc_time} seconds\")\n",
    "        \n",
    "    if isinstance(response, dict):\n",
    "        assert list(response.keys()) == ['error']\n",
    "        raise ValueError('sth went wrong')\n",
    "\n",
    "    response = response[0]['generated_text']\n",
    "    #print(response)\n",
    "    response = response[(response.find(query) + len(query) + 1):]\n",
    "\n",
    "    if stop_tokens is not None:\n",
    "        if verbose:\n",
    "            print('Stopping')\n",
    "        for stoken in stop_tokens:\n",
    "            if stoken in response:\n",
    "                response = response[:response.index(stoken)]\n",
    "\n",
    "    return response"
   ]
  },
  {
   "cell_type": "markdown",
   "id": "7b1afe80",
   "metadata": {},
   "source": [
    "## Prompt Engineering"
   ]
  },
  {
   "cell_type": "markdown",
   "id": "0d71847a",
   "metadata": {},
   "source": [
    "Let's play with Bloom to try to generate Python from natural language as in the [*Code as Policies*](https://arxiv.org/abs/2209.07753) paper. Our job here is to tune the prompt in order to sucessfully generate the same results. This might be challenging as our model is text2text and not text2code, yet it has seen codebases as part of its pretraining, so let's see."
   ]
  },
  {
   "cell_type": "markdown",
   "id": "2655d57f",
   "metadata": {},
   "source": [
    "### Pure Python"
   ]
  },
  {
   "cell_type": "code",
   "execution_count": 54,
   "id": "a34a74f2",
   "metadata": {},
   "outputs": [],
   "source": [
    "prompt_pure_python = '''\n",
    "# Python script\n",
    "# get the variable a.\n",
    "ret_val = a\n",
    "# get the average of variables a, b and c\n",
    "ret_val = (a + b + c) / 3\n",
    "'''.strip()"
   ]
  },
  {
   "cell_type": "code",
   "execution_count": 55,
   "id": "4f37060e",
   "metadata": {},
   "outputs": [
    {
     "name": "stdout",
     "output_type": "stream",
     "text": [
      "117\n",
      "# Python script\n",
      "# get the variable a.\n",
      "ret_val = a\n",
      "# get the average of variables a, b and c\n",
      "ret_val = (a + b + c) / 3\n"
     ]
    }
   ],
   "source": [
    "print(len(prompt_pure_python))\n",
    "print(prompt_pure_python)"
   ]
  },
  {
   "cell_type": "code",
   "execution_count": 56,
   "id": "788a2471",
   "metadata": {},
   "outputs": [
    {
     "name": "stdout",
     "output_type": "stream",
     "text": [
      "# find the sum of variables a and b.\n",
      "ret_val = a + b\n",
      "\n",
      "================================================================================================\n",
      "# find the sum of numbers in a list called values.\n",
      "ret_val = sum(values)\n",
      "\n",
      "================================================================================================\n",
      "# find the difference between the max and min numbers in a list called xs.\n",
      "ret_val = max(xs) - min(xs)\n",
      "\n",
      "================================================================================================\n",
      "# see if any number is divisible by 3 in a list called xs.\n",
      "ret_val = any(x % 3 == 0 for x in xs)\n",
      "\n",
      "================================================================================================\n"
     ]
    }
   ],
   "source": [
    "# examples greedy decoding\n",
    "queries = ['# find the sum of variables a and b.',\n",
    "           '# find the sum of numbers in a list called values.',\n",
    "           '# find the difference between the max and min numbers in a list called xs.',\n",
    "           '# see if any number is divisible by 3 in a list called xs.'\n",
    "]\n",
    "\n",
    "for q in queries:\n",
    "    resp = infer_greedy(prompt_pure_python, q, max_length=39, stop_tokens=['#'])\n",
    "    print(q)\n",
    "    print(resp)\n",
    "    print('==' * 48)"
   ]
  },
  {
   "cell_type": "markdown",
   "id": "a3954b07",
   "metadata": {},
   "source": [
    "Pretty good with only one extra prompt example, compared to the GPT-3 ``code-davinci`` model of the original paper."
   ]
  },
  {
   "cell_type": "markdown",
   "id": "8e60781c",
   "metadata": {},
   "source": [
    "### NumPy programs"
   ]
  },
  {
   "cell_type": "code",
   "execution_count": 29,
   "id": "40277e80",
   "metadata": {},
   "outputs": [],
   "source": [
    "prompt_np = '''\n",
    "import numpy as np\n",
    "# move all points in pts_np to the right.\n",
    "ret_val = pts_np + [0.3, 0, 0]\n",
    "# move a pt_np to the top.\n",
    "ret_val = pt_np + [0, 0.3, 0]\n",
    "# move a pt_np to the front.\n",
    "ret_val = pt_np + [0, 0, 0.3]\n",
    "# get the back most point in pts_np.\n",
    "ret_val = pts_np[np.argmin(pts_np[:, 2])]\n",
    "'''.strip()"
   ]
  },
  {
   "cell_type": "code",
   "execution_count": 30,
   "id": "6903c65a",
   "metadata": {},
   "outputs": [
    {
     "name": "stdout",
     "output_type": "stream",
     "text": [
      "import numpy as np\n",
      "# move all points in pts_np to the right.\n",
      "ret_val = pts_np + [0.3, 0, 0]\n",
      "# move a pt_np to the top.\n",
      "ret_val = pt_np + [0, 0.3, 0]\n",
      "# move a pt_np to the front.\n",
      "ret_val = pt_np + [0, 0, 0.3]\n",
      "# get the back most point in pts_np.\n",
      "ret_val = pts_np[np.argmin(pts_np[:, 2])]\n"
     ]
    }
   ],
   "source": [
    "print(prompt_np)"
   ]
  },
  {
   "cell_type": "code",
   "execution_count": 31,
   "id": "7e4b22dd",
   "metadata": {},
   "outputs": [
    {
     "name": "stdout",
     "output_type": "stream",
     "text": [
      "# get the left most point in pts_np.\n",
      "ret_val = pts_np[np.argmin(pts_np[:, 0])]\n",
      "\n",
      "================================================================================================\n",
      "# get the center of pts_np.\n",
      "ret_val = np.mean(pts_np, axis=0)\n",
      "\n",
      "================================================================================================\n",
      "# the closest point in pts_np to pt_np.\n",
      "ret_val = pts_np[np.argmin(np.linalg.norm(pt_np - pts_np, axis=1))]\n",
      "\n",
      "================================================================================================\n",
      "# points in pts_np right from pt_np.\n",
      "ret_val = pts_np[np.argwhere(pts_np[:, 0] > pt_np[0])]\n",
      "\n",
      "================================================================================================\n",
      "# points in pts_np top from pt_np.\n",
      "ret_val = pts_np[np.argmin(np.abs(pts_np[:, 0] - pt_np[0]))]\n",
      "\n",
      "================================================================================================\n"
     ]
    }
   ],
   "source": [
    "# examples greedy decoding\n",
    "queries = ['# get the left most point in pts_np.',\n",
    "           '# get the center of pts_np.',\n",
    "           '# the closest point in pts_np to pt_np.',\n",
    "           '# points in pts_np right from pt_np.',\n",
    "           '# points in pts_np top from pt_np.'\n",
    "]\n",
    "\n",
    "for q in queries:\n",
    "    resp = infer_greedy(prompt_np, q, max_length=50, stop_tokens=['#'])\n",
    "    print(q)\n",
    "    print(resp)\n",
    "    print('==' * 48)"
   ]
  },
  {
   "cell_type": "markdown",
   "id": "096c9264",
   "metadata": {},
   "source": [
    "Wow, remember this is text2text and not text2code model. Amazing. Maybe we can use Bloom out-of-the-box for spatial reasoning."
   ]
  },
  {
   "cell_type": "markdown",
   "id": "a26229f5",
   "metadata": {},
   "source": [
    "### Using Scene Context"
   ]
  },
  {
   "cell_type": "code",
   "execution_count": 32,
   "id": "a915eb05",
   "metadata": {},
   "outputs": [],
   "source": [
    "prompt_context = '''\n",
    "objects = ['green block', 'green bowl', 'yellow block', 'yellow bowl']\n",
    "# the blocks.\n",
    "ret_val = ['green block', 'yellow block']\n",
    "objects = ['red block', 'red bowl', 'blue block', 'blue bowl']\n",
    "# the fire-colored bowl.\n",
    "ret_val = 'red bowl'\n",
    "# the other one.\n",
    "ret_val = 'blue bowl'\n",
    "'''.strip()"
   ]
  },
  {
   "cell_type": "code",
   "execution_count": 33,
   "id": "749292ef",
   "metadata": {},
   "outputs": [
    {
     "name": "stdout",
     "output_type": "stream",
     "text": [
      "objects = ['green block', 'green bowl', 'yellow block', 'yellow bowl']\n",
      "# the blocks.\n",
      "ret_val = ['green block', 'yellow block']\n",
      "objects = ['red block', 'red bowl', 'blue block', 'blue bowl']\n",
      "# the fire-colored bowl.\n",
      "ret_val = 'red bowl'\n",
      "# the other one.\n",
      "ret_val = 'blue bowl'\n"
     ]
    }
   ],
   "source": [
    "print(prompt_context)"
   ]
  },
  {
   "cell_type": "code",
   "execution_count": 79,
   "id": "f8d2d9c2",
   "metadata": {},
   "outputs": [
    {
     "name": "stdout",
     "output_type": "stream",
     "text": [
      "objects = ['blue bowl', 'red block', 'red bowl', 'blue block']\n",
      "# the bowls.\n",
      "ret_val = ['blue bowl','red bowl', 'blue block','red block']\n",
      "\n"
     ]
    }
   ],
   "source": [
    "context = \"objects = ['blue bowl', 'red block', 'red bowl', 'blue block']\"\n",
    "query = '# the bowls.'\n",
    "\n",
    "extended_prompt = f'{prompt_context}\\n{context}'\n",
    "resp = infer_greedy(extended_prompt, query, max_length=25, stop_tokens=['#', 'objects = ['])\n",
    "print(context)\n",
    "print(query)\n",
    "print(resp)"
   ]
  },
  {
   "cell_type": "code",
   "execution_count": 78,
   "id": "8074179f",
   "metadata": {},
   "outputs": [
    {
     "name": "stdout",
     "output_type": "stream",
     "text": [
      "objects = ['blue bowl', 'red block', 'red bowl', 'blue block']\n",
      "# sea-colored block.\n",
      "ret_val = 'blue block'\n"
     ]
    }
   ],
   "source": [
    "context = \"objects = ['blue bowl', 'red block', 'red bowl', 'blue block']\"\n",
    "query = '# sea-colored block.'\n",
    "\n",
    "extended_prompt = f'{prompt_context}\\n{context}'\n",
    "resp = infer_greedy(extended_prompt, query, max_length=25, stop_tokens=['#', 'objects']).strip()\n",
    "print(context)\n",
    "print(query)\n",
    "print(resp)"
   ]
  },
  {
   "cell_type": "code",
   "execution_count": 36,
   "id": "9dd84e32",
   "metadata": {},
   "outputs": [
    {
     "name": "stdout",
     "output_type": "stream",
     "text": [
      "objects = ['blue bowl', 'red block', 'red bowl', 'blue block']\n",
      "# sea-colored block.\n",
      "ret_val = 'blue block'\n",
      "# the other block.\n",
      "ret_val ='red block'\n",
      "\n"
     ]
    }
   ],
   "source": [
    "context = f'{context}\\n{query}\\n{resp}'\n",
    "\n",
    "query = '# the other block.'\n",
    "\n",
    "extended_prompt = f'{prompt_context}\\n{context}'\n",
    "resp = infer_greedy(extended_prompt, query, max_length=25, stop_tokens=['#', 'objects'])\n",
    "print(context)\n",
    "print(query)\n",
    "print(resp)"
   ]
  },
  {
   "cell_type": "markdown",
   "id": "b33a1af2",
   "metadata": {},
   "source": [
    "Pretty good but the tasks seem simple. Let's assume open-ended object vocabulary of household items. Does it generalize to arbitrary semantic concepts?"
   ]
  },
  {
   "cell_type": "code",
   "execution_count": 37,
   "id": "e2e8626a",
   "metadata": {},
   "outputs": [],
   "source": [
    "prompt_context_household = '''\n",
    "objects = ['coca-cola', 'bowl', 'cup', 'cereal box', 'plate', 'iPhone', 'knife', 'banana']\n",
    "# the bowl.\n",
    "ret_val = 'bowl'\n",
    "# the edible items.\n",
    "ret_val = ['coca-cola', 'cereal box', 'banana']\n",
    "# the kitchenware.\n",
    "ret_val = ['bowl', 'cup', 'plate', 'knife']\n",
    "# the brand items.\n",
    "ret_val = ['coca-cola', 'iPhone']\n",
    "'''.strip()"
   ]
  },
  {
   "cell_type": "code",
   "execution_count": 38,
   "id": "c3730396",
   "metadata": {},
   "outputs": [
    {
     "name": "stdout",
     "output_type": "stream",
     "text": [
      "objects = ['coca-cola', 'bowl', 'cup', 'cereal box', 'plate', 'iPhone', 'knife', 'banana']\n",
      "# the bowl.\n",
      "ret_val = 'bowl'\n",
      "# the edible items.\n",
      "ret_val = ['coca-cola', 'cereal box', 'banana']\n",
      "# the kitchenware.\n",
      "ret_val = ['bowl', 'cup', 'plate', 'knife']\n",
      "# the brand items.\n",
      "ret_val = ['coca-cola', 'iPhone']\n"
     ]
    }
   ],
   "source": [
    "print(prompt_context_household)"
   ]
  },
  {
   "cell_type": "code",
   "execution_count": 39,
   "id": "6b7bea07",
   "metadata": {},
   "outputs": [
    {
     "name": "stdout",
     "output_type": "stream",
     "text": [
      "objects = ['plate', 'juice box', 'flashlight', 'keyboard', 'Sprite', 'Oreo']\n",
      "# the torch.\n",
      "ret_val = 'flashlight'\n",
      "\n",
      "================================================================================================\n",
      "objects = ['plate', 'juice box', 'flashlight', 'keyboard', 'Sprite', 'Oreo']\n",
      "# the edible items.\n",
      "ret_val = ['juice box', 'Oreo']\n",
      "\n",
      "================================================================================================\n",
      "objects = ['plate', 'juice box', 'flashlight', 'keyboard', 'Sprite', 'Oreo']\n",
      "# the electronic devices.\n",
      "ret_val = ['keyboard', 'flashlight']\n",
      "\n",
      "================================================================================================\n",
      "objects = ['plate', 'juice box', 'flashlight', 'keyboard', 'Sprite', 'Oreo']\n",
      "# the drinks.\n",
      "ret_val = ['juice box', 'Sprite']\n",
      "\n",
      "================================================================================================\n",
      "objects = ['plate', 'juice box', 'flashlight', 'keyboard', 'Sprite', 'Oreo']\n",
      "# the brand items.\n",
      "ret_val = ['Sprite', 'Oreo']\n",
      "\n",
      "================================================================================================\n",
      "objects = ['plate', 'juice box', 'flashlight', 'keyboard', 'Sprite', 'Oreo']\n",
      "# the fluid containers.\n",
      "ret_val = ['juice box', 'Sprite']\n",
      "\n",
      "================================================================================================\n",
      "objects = ['plate', 'juice box', 'flashlight', 'keyboard', 'Sprite', 'Oreo']\n",
      "# the most expensive item.\n",
      "ret_val = 'flashlight'\n",
      "\n",
      "================================================================================================\n"
     ]
    }
   ],
   "source": [
    "context = \"objects = ['plate', 'juice box', 'flashlight', 'keyboard', 'Sprite', 'Oreo']\"\n",
    "queries = ['# the torch.',\n",
    "           '# the edible items.',\n",
    "           '# the electronic devices.',\n",
    "           '# the drinks.',\n",
    "           '# the brand items.',\n",
    "           '# the fluid containers.',\n",
    "           '# the most expensive item.'\n",
    "]\n",
    "\n",
    "for q in queries:\n",
    "    resp = infer_greedy(prompt_context_household, f'{context}\\n{q}', max_length=25, stop_tokens=['#', 'objects'])\n",
    "    print(context)\n",
    "    print(q)\n",
    "    print(resp)\n",
    "    print('==' * 48)"
   ]
  },
  {
   "cell_type": "markdown",
   "id": "34e2a9e3",
   "metadata": {},
   "source": [
    "That's cool! It recognizes different categories of objects and some of their properties (brand, edible, c!ontainer etc.) even for new words and concepts not appearing in prompt. Apparently flashlights are more expensive than keyboards though :P"
   ]
  },
  {
   "cell_type": "markdown",
   "id": "d4ac788c",
   "metadata": {},
   "source": [
    "### Using 1st-Party APIs"
   ]
  },
  {
   "cell_type": "code",
   "execution_count": 81,
   "id": "28775bc0",
   "metadata": {},
   "outputs": [],
   "source": [
    "prompt_api = '''\n",
    "from utils import get_pos, pick_and_place\n",
    "objects = ['gray block', 'gray bowl']\n",
    "# put the gray block on the gray bowl.\n",
    "pick_and_place('gray block', 'gray bowl')\n",
    "objects = ['purple block', 'purple bowl']\n",
    "# move the purple bowl toward the left.\n",
    "target_pos = get_pos('purple bowl') + [-0.3, 0]\n",
    "pick_and_place('purple bowl', target_pos)\n",
    "'''.strip()"
   ]
  },
  {
   "cell_type": "code",
   "execution_count": 82,
   "id": "1ef9fc01",
   "metadata": {},
   "outputs": [
    {
     "name": "stdout",
     "output_type": "stream",
     "text": [
      "from utils import get_pos, pick_and_place\n",
      "objects = ['gray block', 'gray bowl']\n",
      "# put the gray block on the gray bowl.\n",
      "pick_and_place('gray block', 'gray bowl')\n",
      "objects = ['purple block', 'purple bowl']\n",
      "# move the purple bowl toward the left.\n",
      "target_pos = get_pos('purple bowl') + [-0.3, 0]\n",
      "pick_and_place('purple bowl', target_pos)\n"
     ]
    }
   ],
   "source": [
    "print(prompt_api)"
   ]
  },
  {
   "cell_type": "code",
   "execution_count": 84,
   "id": "e37c5268",
   "metadata": {},
   "outputs": [
    {
     "name": "stdout",
     "output_type": "stream",
     "text": [
      "objects = ['blue bowl', 'red block', 'red bowl', 'blue block']\n",
      "# move the red block a bit to the right.\n",
      "target_pos = get_pos('red block') + [0.1, 0]\n",
      "pick_and_place('red block', target_pos)\n",
      "\n",
      "================================================================================================\n",
      "objects = ['blue bowl', 'red block', 'red bowl', 'blue block']\n",
      "# put the blue block on the bowl with the same color.\n",
      "pick_and_place('blue block', 'blue bowl')\n",
      "\n",
      "================================================================================================\n",
      "objects = ['blue bowl', 'red block', 'red bowl', 'blue block']\n",
      "# put the red block in the matching bowl.\n",
      "pick_and_place('red block','red bowl')\n",
      "\n",
      "================================================================================================\n"
     ]
    }
   ],
   "source": [
    "context = \"objects = ['blue bowl', 'red block', 'red bowl', 'blue block']\"\n",
    "queries = ['# move the red block a bit to the right.',\n",
    "           '# put the blue block on the bowl with the same color.',\n",
    "           '# put the red block in the matching bowl.',\n",
    "]\n",
    "\n",
    "extended_prompt = f'{prompt_api}\\n{context}'\n",
    "for q in queries:\n",
    "    resp = infer_greedy(extended_prompt, q, max_length=60, stop_tokens=['#', 'objects'])\n",
    "    print(context)\n",
    "    print(q)\n",
    "    print(resp)\n",
    "    print('==' * 48)"
   ]
  },
  {
   "cell_type": "markdown",
   "id": "373fa23c",
   "metadata": {},
   "source": [
    "Picks up immediately, but like scene context, this one seems simple"
   ]
  },
  {
   "cell_type": "markdown",
   "id": "6d56376f",
   "metadata": {},
   "source": [
    "### Combining Context, 1st-Party and 3rd-Party APIs"
   ]
  },
  {
   "cell_type": "code",
   "execution_count": 6,
   "id": "5adb5187",
   "metadata": {},
   "outputs": [],
   "source": [
    "prompt_combined = '''\n",
    "import numpy as np\n",
    "from utils import get_pos, pick_and_place\n",
    "objects = ['cyan block', 'cyan bowl', 'pink bowl']\n",
    "# put the cyan block in cyan bowl.\n",
    "pick_and_place('cyan block', 'cyan bowl')\n",
    "objects = ['gray block', 'silver block', 'gray bowl']\n",
    "# place the top most block on the gray bowl.\n",
    "names = ['gray block', 'silver block']\n",
    "positions = np.array([get_pos(name) for name in names])\n",
    "name = names[np.argmax(positions[:,1])]\n",
    "pick_and_place(name, 'gray bowl')\n",
    "objects = ['purple block', 'purple bowl']\n",
    "# put the purple bowl to the left of the purple block.\n",
    "target_pos = get_pos('purple block') + [-0.3, 0]\n",
    "pick_and_place('purple bowl', target_pos)\n",
    "objects = ['green block', 'yellow bowl', 'yellow block', 'green bowl']\n",
    "# move the left most bowl toward the right.\n",
    "names = ['green bowl', 'yellow bowl']\n",
    "positions = np.array([get_pos(name) for name in names])\n",
    "name = names[np.argmin(positions[:,0])]\n",
    "target_pos = get_pos(name) + [0.3, 0]\n",
    "pick_and_place(name, target_pos)\n",
    "'''.strip()"
   ]
  },
  {
   "cell_type": "code",
   "execution_count": 44,
   "id": "b178bcff",
   "metadata": {},
   "outputs": [
    {
     "name": "stdout",
     "output_type": "stream",
     "text": [
      "import numpy as np\n",
      "from utils import get_pos, pick_and_place\n",
      "objects = ['cyan block', 'cyan bowl', 'pink bowl']\n",
      "# put the cyan block in cyan bowl.\n",
      "pick_and_place('cyan block', 'cyan bowl')\n",
      "objects = ['gray block', 'silver block', 'gray bowl']\n",
      "# place the top most block on the gray bowl.\n",
      "names = ['gray block', 'silver block']\n",
      "positions = np.array([get_pos(name) for name in names])\n",
      "name = names[np.argmax(positions[:,1])]\n",
      "pick_and_place(name, 'gray bowl')\n",
      "objects = ['purple block', 'purple bowl']\n",
      "# put the purple bowl to the left of the purple block.\n",
      "target_pos = get_pos('purple block') + [-0.3, 0]\n",
      "pick_and_place('purple bowl', target_pos)\n",
      "objects = ['green block', 'yellow bowl', 'yellow block', 'green bowl']\n",
      "# move the left most bowl toward the right.\n",
      "names = ['green bowl', 'yellow bowl']\n",
      "positions = np.array([get_pos(name) for name in names])\n",
      "name = names[np.argmin(positions[:,0])]\n",
      "target_pos = get_pos(name) + [0.3, 0]\n",
      "pick_and_place(name, target_pos)\n"
     ]
    }
   ],
   "source": [
    "print(prompt_combined)"
   ]
  },
  {
   "cell_type": "code",
   "execution_count": 45,
   "id": "616a0df6",
   "metadata": {},
   "outputs": [
    {
     "name": "stdout",
     "output_type": "stream",
     "text": [
      "objects = ['red block', 'blue bowl', 'blue block', 'red bowl']\n",
      "# put the red block in blue bowl.\n",
      "pick_and_place('red block', 'blue bowl')\n",
      "\n",
      "================================================================================================\n",
      "objects = ['red block', 'blue bowl', 'blue block', 'red bowl']\n",
      "# place the blue block on the top most bowl.\n",
      "names = ['blue block','red block']\n",
      "positions = np.array([get_pos(name) for name in names])\n",
      "name = names[np.argmax(positions[:,1])]\n",
      "pick_and_place(name, 'blue bowl')\n",
      "\n",
      "================================================================================================\n",
      "objects = ['red block', 'blue bowl', 'blue block', 'red bowl']\n",
      "# move the right most block toward the left.\n",
      "names = ['red block', 'blue block']\n",
      "positions = np.array([get_pos(name) for name in names])\n",
      "name = names[np.argmax(positions[:,0])]\n",
      "target_pos = get_pos(name) + [-0.3, 0]\n",
      "pick_and_place(name, target_pos)\n",
      "\n",
      "================================================================================================\n",
      "objects = ['red block', 'blue bowl', 'blue block', 'red bowl']\n",
      "# place the blocks in bowls with their colors.\n",
      "names = ['red block', 'blue block']\n",
      "positions = np.array([get_pos(name) for name in names])\n",
      "name = names[np.argmax(positions[:,1])]\n",
      "pick_and_place(name, 'blue bowl')\n",
      "name = names[np.argmax(positions[:,1])]\n",
      "pick_and_place(name,'red bowl')\n",
      "\n",
      "================================================================================================\n",
      "objects = ['red block', 'blue bowl', 'blue block', 'red bowl']\n",
      "# move the red block to the middle of the bowls.\n",
      "names = ['red block', 'blue block']\n",
      "positions = np.array([get_pos(name) for name in names])\n",
      "name = names[np.argmin(positions[:,0])]\n",
      "target_pos = get_pos(name) + [0.5, 0]\n",
      "pick_and_place(name, target_pos)\n",
      "\n",
      "================================================================================================\n"
     ]
    }
   ],
   "source": [
    "context = \"objects = ['red block', 'blue bowl', 'blue block', 'red bowl']\"\n",
    "queries = ['# put the red block in blue bowl.',\n",
    "           '# place the blue block on the top most bowl.',\n",
    "           '# move the right most block toward the left.',\n",
    "           '# place the blocks in bowls with their colors.',\n",
    "           '# move the red block to the middle of the bowls.'\n",
    "]\n",
    "\n",
    "extended_prompt = f'{prompt_combined}\\n{context}'\n",
    "for q in queries:\n",
    "    resp = infer_greedy(extended_prompt, q, max_length=128, stop_tokens=['#', 'objects = ['])\n",
    "    print(context)\n",
    "    print(q)\n",
    "    print(resp)\n",
    "    print('==' * 48)"
   ]
  },
  {
   "cell_type": "markdown",
   "id": "640ea469",
   "metadata": {},
   "source": [
    "And it fails horribly.. The model is unable to combine the logic behind context, numpy and our own functions ``get_pos`` and ``pick_and_place``. Maybe some more ellaborate prompt engineering? In the second example it suceeds."
   ]
  },
  {
   "cell_type": "markdown",
   "id": "56f9eecc",
   "metadata": {},
   "source": [
    "### Control Flows"
   ]
  },
  {
   "cell_type": "code",
   "execution_count": 46,
   "id": "d13f2803",
   "metadata": {},
   "outputs": [],
   "source": [
    "prompt_ctrl = '''\n",
    "from utils import get_pos, pick_and_place\n",
    "# move the orange block toward the top.\n",
    "target_pos = get_pos('orange block') + [0, 0.3]\n",
    "pick_and_place('orange block', target_pos)\n",
    "# move the purple bowl toward the left.\n",
    "target_pos = get_pos('purple bowl') + [-0.3, 0]\n",
    "pick_and_place('purple bowl', target_pos)\n",
    "# move the pink block a bit to the top until it reaches the cyan bowl.\n",
    "while get_pos('pink block')[1] < get_pos('cyan bowl')[1]:\n",
    "    target_pos = get_pos('pink block') + [0, 0.01]\n",
    "    pick_and_place('pink block', target_pos)\n",
    "'''"
   ]
  },
  {
   "cell_type": "code",
   "execution_count": 47,
   "id": "d7f4d79e",
   "metadata": {},
   "outputs": [
    {
     "name": "stdout",
     "output_type": "stream",
     "text": [
      "\n",
      "from utils import get_pos, pick_and_place\n",
      "# move the orange block toward the top.\n",
      "target_pos = get_pos('orange block') + [0, 0.3]\n",
      "pick_and_place('orange block', target_pos)\n",
      "# move the purple bowl toward the left.\n",
      "target_pos = get_pos('purple bowl') + [-0.3, 0]\n",
      "pick_and_place('purple bowl', target_pos)\n",
      "# move the pink block a bit to the top until it reaches the cyan bowl.\n",
      "while get_pos('pink block')[1] < get_pos('cyan bowl')[1]:\n",
      "    target_pos = get_pos('pink block') + [0, 0.01]\n",
      "    pick_and_place('pink block', target_pos)\n",
      "\n"
     ]
    }
   ],
   "source": [
    "print(prompt_ctrl)"
   ]
  },
  {
   "cell_type": "code",
   "execution_count": 48,
   "id": "e482bef9",
   "metadata": {},
   "outputs": [
    {
     "name": "stdout",
     "output_type": "stream",
     "text": [
      "# while the red block is to the left of the blue bowl, move it to the right 5cm at a time.\n",
      "while get_pos('red block')[0] > get_pos('blue bowl')[0]:\n",
      "    target_pos = get_pos('red block') + [0, -0.01]\n",
      "    pick_and_place('red block', target_pos)\n",
      "\n",
      "\n"
     ]
    }
   ],
   "source": [
    "#context = \"objects = ['red block', 'blue bowl', 'blue block', 'red bowl']\"\n",
    "query = '# while the red block is to the left of the blue bowl, move it to the right 5cm at a time.'\n",
    "\n",
    "#extended_prompt = f'{prompt_ctrl}\\n{context}'\n",
    "resp = infer_greedy(prompt_ctrl, query, max_length=128, stop_tokens=['#', 'objects = ['])\n",
    "#print(context)\n",
    "print(query)\n",
    "print(resp)"
   ]
  },
  {
   "cell_type": "code",
   "execution_count": 49,
   "id": "b5d2df87",
   "metadata": {},
   "outputs": [
    {
     "name": "stdout",
     "output_type": "stream",
     "text": [
      "objects = ['red block', 'blue bowl', 'blue block', 'red bowl']\n",
      "# while the distance between yellow block and yellow bowl is more than 5cm, move it to the bottom 2cm at a time\n",
      "while get_pos('yellow block')[1] > get_pos('yellow bowl')[1] + 0.5:\n",
      "    target_pos = get_pos('yellow block') + [0, -0.2]\n",
      "    pick_and_place('yellow block', target_pos)\n",
      "\n",
      "\n"
     ]
    }
   ],
   "source": [
    "#context = \"objects = ['yellow block', 'green bowl', 'green block', 'yellow bowl']\"\n",
    "#query = \"# move the yellow block toward the yellow bowl 1cm at a time until their distance is less than 5cm apart.\"\n",
    "query = \"# while the distance between yellow block and yellow bowl is more than 5cm, move it to the bottom 2cm at a time\"\n",
    "\n",
    "#extended_prompt = f'{prompt_ctrl}\\n{context}'\n",
    "resp = infer_greedy(prompt_ctrl, query, max_length=128, stop_tokens=['#', 'objects = ['])\n",
    "print(context)\n",
    "print(query)\n",
    "print(resp)"
   ]
  },
  {
   "cell_type": "markdown",
   "id": "9949658f",
   "metadata": {},
   "source": [
    "While some elements are correct (general while structure) the fine-grained details of spatial reasoning are not captured (left/right correspondance to ``numpy`` axes, notion of distance is not understood, 5cm gets translated to 0.01). Needs work."
   ]
  },
  {
   "cell_type": "markdown",
   "id": "bf952c89",
   "metadata": {},
   "source": [
    "### Function Generation"
   ]
  },
  {
   "cell_type": "code",
   "execution_count": 50,
   "id": "f9c48bd6",
   "metadata": {},
   "outputs": [],
   "source": [
    "prompt_f_gen = '''\n",
    "import numpy as np\n",
    "from utils import get_pos, get_obj_bbox_xyxy\n",
    "# define function: total = get_total(xs=numbers).\n",
    "def get_total(xs):\n",
    "    return np.sum(xs)\n",
    "'''.strip()"
   ]
  },
  {
   "cell_type": "code",
   "execution_count": 51,
   "id": "8676fa05",
   "metadata": {},
   "outputs": [
    {
     "name": "stdout",
     "output_type": "stream",
     "text": [
      "import numpy as np\n",
      "from utils import get_pos, get_obj_bbox_xyxy\n",
      "# define function: total = get_total(xs=numbers).\n",
      "def get_total(xs):\n",
      "    return np.sum(xs)\n"
     ]
    }
   ],
   "source": [
    "print(prompt_f_gen)"
   ]
  },
  {
   "cell_type": "code",
   "execution_count": 52,
   "id": "ded80d96",
   "metadata": {
    "scrolled": true
   },
   "outputs": [
    {
     "name": "stdout",
     "output_type": "stream",
     "text": [
      "# define function: get_objs_bigger_than_area_th(obj_names, bbox_area_th).\n",
      "def get_objs_bigger_than_area_th(obj_names, bbox_area_th):\n",
      "    objs = []\n",
      "    for obj_name in obj_names:\n",
      "        obj = get_obj_bbox_xyxy(obj_name)\n",
      "        if obj is not None:\n",
      "            if obj[2] > bbox_area_th:\n",
      "                objs.append(obj)\n",
      "    return objs\n",
      "\n",
      "================================================================================================\n",
      "# define function: get_obj_bbox_area(obj_name).\n",
      "def get_obj_bbox_area(obj_name):\n",
      "    obj = get_obj(obj_name)\n",
      "    return get_obj_bbox_xyxy(obj).area\n",
      "\n",
      "================================================================================================\n"
     ]
    }
   ],
   "source": [
    "queries = ['# define function: get_objs_bigger_than_area_th(obj_names, bbox_area_th).',\n",
    "           '# define function: get_obj_bbox_area(obj_name).'\n",
    "]\n",
    "\n",
    "for q in queries:\n",
    "    print(q)\n",
    "    resp = infer_greedy(prompt_f_gen, q, max_length=128, stop_tokens=['#'])\n",
    "    print(resp)\n",
    "    print('==' * 48)"
   ]
  },
  {
   "cell_type": "markdown",
   "source": [
    "### Experimenting  with the prompts from code-as-polices"
   ],
   "metadata": {
    "collapsed": false
   }
  },
  {
   "cell_type": "code",
   "execution_count": 15,
   "outputs": [
    {
     "name": "stdout",
     "output_type": "stream",
     "text": [
      "pick_and_place('cyan block', 'purple bowl')\n",
      "objects = ['red block', 'purple block', 'purple bowl', 'blue block', 'blue bowl', 'white block', 'white bowl']\n",
      "put the red block on the purple bowl\n",
      "pick_and_place('red block', 'purple bowl')\n",
      "objects = ['red block', 'purple block', 'purple bowl', 'blue block', 'blue bowl', 'white block', 'white bowl']\n",
      "put the white block on the blue bowl\n",
      "\n"
     ]
    }
   ],
   "source": [
    "text = '''\n",
    "# Python 2D robot control script\n",
    "import numpy as np\n",
    "from env_utils import put_first_on_second, get_obj_pos, get_obj_names, say, get_corner_name, get_side_name, is_obj_visible, stack_objects_in_order\n",
    "from plan_utils import parse_obj_name, parse_position, parse_question, transform_shape_pts\n",
    "\n",
    "objects = ['yellow block', 'green block', 'yellow bowl', 'blue block', 'blue bowl', 'green bowl']\n",
    "# the yellow block on the yellow bowl.\n",
    "say('Ok - putting the yellow block on the yellow bowl')\n",
    "put_first_on_second('yellow block', 'yellow bowl')\n",
    "objects = ['yellow block', 'green block', 'yellow bowl', 'blue block', 'blue bowl', 'green bowl']\n",
    "# which block did you move.\n",
    "say('I moved the yellow block')\n",
    "objects = ['yellow block', 'green block', 'yellow bowl', 'blue block', 'blue bowl', 'green bowl']\n",
    "# move the green block to the top right corner.\n",
    "say('Got it - putting the green block on the top right corner')\n",
    "corner_pos = parse_position('top right corner')\n",
    "put_first_on_second('green block', corner_pos)\n",
    "objects = ['yellow block', 'green block', 'yellow bowl', 'blue block', 'blue bowl', 'green bowl']\n",
    "# stack the blue bowl on the yellow bowl on the green block.\n",
    "order_bottom_to_top = ['green block', 'yellow block', 'blue bowl']\n",
    "say(f'Sure - stacking from top to bottom: {\", \".join(order_bottom_to_top)}')\n",
    "stack_objects_in_order(object_names=order_bottom_to_top)\n",
    "objects = ['cyan block', 'white block', 'cyan bowl', 'blue block', 'blue bowl', 'white bowl']\n",
    "# move the cyan block into its corresponding bowl.\n",
    "matches = {'cyan block': 'cyan bowl'}\n",
    "say('Got it - placing the cyan block on the cyan bowl')\n",
    "for first, second in matches.items():\n",
    "  put_first_on_second(first, get_obj_pos(second))\n",
    "objects = ['cyan block', 'white block', 'cyan bowl', 'blue block', 'blue bowl', 'white bowl']\n",
    "# make a line of blocks on the right side.\n",
    "say('No problem! Making a line of blocks on the right side')\n",
    "block_names = parse_obj_name('the blocks', f'objects = {get_obj_names()}')\n",
    "line_pts = parse_position(f'a 30cm vertical line on the right with {len(block_names)} points')\n",
    "for block_name, pt in zip(block_names, line_pts):\n",
    "  put_first_on_second(block_name, pt)\n",
    "objects = ['yellow block', 'red block', 'yellow bowl', 'gray block', 'gray bowl', 'red bowl']\n",
    "# put the small banana colored thing in between the blue bowl and green block.\n",
    "say('Sure thing - putting the yellow block between the blue bowl and the green block')\n",
    "target_pos = parse_position('a point in the middle betweeen the blue bowl and the green block')\n",
    "put_first_on_second('yellow block', target_pos)\n",
    "objects = ['yellow block', 'red block', 'yellow bowl', 'gray block', 'gray bowl', 'red bowl']\n",
    "# can you cut the bowls in half.\n",
    "say('no, I can only move objects around')\n",
    "objects = ['yellow block', 'green block', 'yellow bowl', 'gray block', 'gray bowl', 'green bowl']\n",
    "# stack the blocks on the right side with the gray one on the bottom.\n",
    "say('Ok. stacking the blocks on the right side with the gray block on the bottom')\n",
    "right_side = parse_position('the right side')\n",
    "put_first_on_second('gray block', right_side)\n",
    "order_bottom_to_top = ['gray block', 'green block', 'yellow block']\n",
    "stack_objects_in_order(object_names=order_bottom_to_top)\n",
    "objects = ['yellow block', 'green block', 'yellow bowl', 'blue block', 'blue bowl', 'green bowl']\n",
    "# hide the blue bowl.\n",
    "bowl_name = np.random.choice(['yellow bowl', 'green bowl'])\n",
    "say(f'Sounds good! Hiding the blue bowl under the {bowl_name}')\n",
    "put_first_on_second(bowl_name, 'blue bowl')\n",
    "objects = ['pink block', 'green block', 'pink bowl', 'blue block', 'blue bowl', 'green bowl']\n",
    "# stack everything with the green block on top.\n",
    "say('Ok! Stacking everything with the green block on the top')\n",
    "order_bottom_to_top = ['blue bowl', 'pink bowl', 'green bowl', 'pink block', 'blue block', 'green block']\n",
    "stack_objects_in_order(object_names=order_bottom_to_top)\n",
    "objects = ['pink block', 'green block', 'pink bowl', 'blue block', 'blue bowl', 'green bowl']\n",
    "# move the grass-colored bowl to the left.\n",
    "say('Sure - moving the green bowl left by 10 centimeters')\n",
    "left_pos = parse_position('a point 10cm left of the green bowl')\n",
    "put_first_on_second('green bowl', left_pos)\n",
    "objects = ['pink block', 'green block', 'pink bowl', 'blue block', 'blue bowl', 'green bowl']\n",
    "# why did you move the red bowl.\n",
    "say(f'I did not move the red bowl')\n",
    "objects = ['pink block', 'green block', 'pink bowl', 'blue block', 'blue bowl', 'green bowl']\n",
    "# undo that.\n",
    "say('Sure - moving the green bowl right by 10 centimeters')\n",
    "left_pos = parse_position('a point 10cm right of the green bowl')\n",
    "put_first_on_second('green bowl', left_pos)\n",
    "objects = ['brown bowl', 'green block', 'brown block', 'green bowl', 'blue bowl', 'blue block']\n",
    "# place the top most block to the corner closest to the bottom most block.\n",
    "top_block_name = parse_obj_name('top most block', f'objects = {get_obj_names()}')\n",
    "bottom_block_name = parse_obj_name('bottom most block', f'objects = {get_obj_names()}')\n",
    "closest_corner_pos = parse_position(f'the corner closest to the {bottom_block_name}', f'objects = {get_obj_names()}')\n",
    "say(f'Putting the {top_block_name} on the {get_corner_name(closest_corner_pos)}')\n",
    "put_first_on_second(top_block_name, closest_corner_pos)\n",
    "objects = ['brown bowl', 'green block', 'brown block', 'green bowl', 'blue bowl', 'blue block']\n",
    "# move the brown bowl to the side closest to the green block.\n",
    "closest_side_position = parse_position('the side closest to the green block')\n",
    "say(f'Got it - putting the brown bowl on the {get_side_name(closest_side_position)}')\n",
    "put_first_on_second('brown bowl', closest_side_position)\n",
    "objects = ['brown bowl', 'green block', 'brown block', 'green bowl', 'blue bowl', 'blue block']\n",
    "# place the green block to the right of the bowl that has the blue block.\n",
    "bowl_name = parse_obj_name('the bowl that has the blue block', f'objects = {get_obj_names()}')\n",
    "if bowl_name:\n",
    "  target_pos = parse_position(f'a point 10cm to the right of the {bowl_name}')\n",
    "  say(f'No problem - placing the green block to the right of the {bowl_name}')\n",
    "  put_first_on_second('green block', target_pos)\n",
    "else:\n",
    "  say('There are no bowls that has the blue block')\n",
    "objects = ['brown bowl', 'green block', 'brown block', 'green bowl', 'blue bowl', 'blue block']\n",
    "# place the blue block in the empty bowl.\n",
    "empty_bowl_name = parse_obj_name('the empty bowl', f'objects = {get_obj_names()}')\n",
    "if empty_bowl_name:\n",
    "  say(f'Ok! Putting the blue block on the {empty_bowl_name}')\n",
    "  put_first_on_second('blue block', empty_bowl_name)\n",
    "else:\n",
    "  say('There are no empty bowls')\n",
    "objects = ['brown bowl', 'green block', 'brown block', 'green bowl', 'blue bowl', 'blue block']\n",
    "# move the other blocks to the bottom corners.\n",
    "block_names = parse_obj_name('blocks other than the blue block', f'objects = {get_obj_names()}')\n",
    "corners = parse_position('the bottom corners')\n",
    "for block_name, pos in zip(block_names, corners):\n",
    "  put_first_on_second(block_name, pos)\n",
    "objects = ['brown bowl', 'green block', 'brown block', 'green bowl', 'blue bowl', 'blue block']\n",
    "# move the red bowl a lot to the left of the blocks.\n",
    "say('Sure! Moving the red bowl to a point left of the blocks')\n",
    "left_pos = parse_position('a point 20cm left of the blocks')\n",
    "put_first_on_second('red bowl', left_pos)\n",
    "objects = ['pink block', 'gray block', 'orange block']\n",
    "# move the pinkish colored block on the bottom side.\n",
    "say('Ok - putting the pink block on the bottom side')\n",
    "bottom_side_pos = parse_position('the bottom side')\n",
    "put_first_on_second('pink block', bottom_side_pos)\n",
    "objects = ['yellow bowl', 'blue block', 'yellow block', 'blue bowl']\n",
    "# is the blue block to the right of the yellow bowl?\n",
    "if parse_question('is the blue block to the right of the yellow bowl?', f'objects = {get_obj_names()}'):\n",
    "  say('yes, there is a blue block to the right of the yellow bow')\n",
    "else:\n",
    "  say('no, there is't a blue block to the right of the yellow bow')\n",
    "objects = ['yellow bowl', 'blue block', 'yellow block', 'blue bowl']\n",
    "# how many yellow objects are there?\n",
    "n_yellow_objs = parse_question('how many yellow objects are there', f'objects = {get_obj_names()}')\n",
    "say(f'there are {n_yellow_objs} yellow object')\n",
    "objects = ['pink block', 'green block', 'pink bowl', 'blue block', 'blue bowl', 'green bowl']\n",
    "# move the left most block to the green bowl.\n",
    "left_block_name = parse_obj_name('left most block', f'objects = {get_obj_names()}')\n",
    "say(f'Moving the {left_block_name} on the green bowl')\n",
    "put_first_on_second(left_block_name, 'green bowl')\n",
    "objects = ['pink block', 'green block', 'pink bowl', 'blue block', 'blue bowl', 'green bowl']\n",
    "# move the other blocks to different corners.\n",
    "block_names = parse_obj_name(f'blocks other than the {left_block_name}', f'objects = {get_obj_names()}')\n",
    "corners = parse_position('the corners')\n",
    "say(f'Ok - moving the other {len(block_names)} blocks to different corners')\n",
    "for block_name, pos in zip(block_names, corners):\n",
    "  put_first_on_second(block_name, pos)\n",
    "objects = ['pink block', 'green block', 'pink bowl', 'blue block', 'blue bowl', 'green bowl']\n",
    "# is the pink block on the green bowl.\n",
    "if parse_question('is the pink block on the green bowl', f'objects = {get_obj_names()}'):\n",
    "  say('Yes - the pink block is on the green bowl.')\n",
    "else:\n",
    "  say('No - the pink block is not on the green bowl.')\n",
    "objects = ['pink block', 'green block', 'pink bowl', 'blue block', 'blue bowl', 'green bowl']\n",
    "# what are the blocks left of the green bowl.\n",
    "left_block_names =  parse_question('what are the blocks left of the green bowl', f'objects = {get_obj_names()}')\n",
    "if len(left_block_names) > 0:\n",
    "  say(f'These blocks are left of the green bowl: {\", \".join(left_block_names)}')\n",
    "else:\n",
    "  say('There are no blocks left of the green bowl')\n",
    "objects = ['pink block', 'green block', 'pink bowl', 'blue block', 'blue bowl', 'green bowl']\n",
    "# if you see a purple bowl put it on the blue bowl\n",
    "if is_obj_visible('purple bowl'):\n",
    "  say('Putting the purple bowl on the pink bowl')\n",
    "  put_first_on_second('purple bowl', 'pink bowl')\n",
    "else:\n",
    "  say('I don't see a purple bowl')\n",
    "objects = ['yellow block', 'green block', 'yellow bowl', 'blue block', 'blue bowl', 'green bowl']\n",
    "# imagine that the bowls are different biomes on earth and imagine that the blocks are parts of a building.\n",
    "say('ok')\n",
    "objects = ['yellow block', 'green block', 'yellow bowl', 'blue block', 'blue bowl', 'green bowl']\n",
    "# now build a tower in the grasslands.\n",
    "order_bottom_to_top = ['green bowl', 'blue block', 'green block', 'yellow block']\n",
    "say('stacking the blocks on the green bowl')\n",
    "stack_objects_in_order(object_names=order_bottom_to_top)\n",
    "objects = ['yellow block', 'green block', 'yellow bowl', 'gray block', 'gray bowl', 'green bowl']\n",
    "# show me what happens when the desert gets flooded by the ocean.\n",
    "say('putting the yellow bowl on the blue bowl')\n",
    "put_first_on_second('yellow bowl', 'blue bowl')\n",
    "objects = ['pink block', 'gray block', 'orange block']\n",
    "# move all blocks 5cm toward the top.\n",
    "say('Ok - moving all blocks 5cm toward the top')\n",
    "block_names = parse_obj_name('the blocks', f'objects = {get_obj_names()}')\n",
    "for block_name in block_names:\n",
    "  target_pos = parse_position(f'a point 5cm above the {block_name}')\n",
    "  put_first_on_second(block_name, target_pos)\n",
    "objects = ['cyan block', 'white block', 'purple bowl', 'blue block', 'blue bowl', 'white bowl']\n",
    "# make a triangle of blocks in the middle.\n",
    "block_names = parse_obj_name('the blocks', f'objects = {get_obj_names()}')\n",
    "triangle_pts = parse_position(f'a triangle with size 10cm around the middle with {len(block_names)} points')\n",
    "say('Making a triangle of blocks around the middle of the workspace')\n",
    "for block_name, pt in zip(block_names, triangle_pts):\n",
    "  put_first_on_second(block_name, pt)\n",
    "objects = ['cyan block', 'white block', 'purple bowl', 'blue block', 'blue bowl', 'white bowl']\n",
    "# make the triangle smaller.\n",
    "triangle_pts = transform_shape_pts('scale it by 0.5x', shape_pts=triangle_pts)\n",
    "say('Making the triangle smaller')\n",
    "block_names = parse_obj_name('the blocks', f'objects = {get_obj_names()}')\n",
    "for block_name, pt in zip(block_names, triangle_pts):\n",
    "  put_first_on_second(block_name, pt)\n",
    "objects = ['brown bowl', 'red block', 'brown block', 'red bowl', 'pink bowl', 'pink block']\n",
    "# put the red block on the farthest bowl.\n",
    "farthest_bowl_name = parse_obj_name('the bowl farthest from the red block', f'objects = {get_obj_names()}')\n",
    "say(f'Putting the red block on the {farthest_bowl_name}')\n",
    "put_first_on_second('red block', farthest_bowl_name)\n",
    "'''.strip()\n",
    "context = \"objects = ['cyan block', 'white block', 'purple bowl', 'blue block', 'blue bowl', 'white bowl']\"\n",
    "extended_prompt = f'{prompt_combined}\\n{context}'\n",
    "q = 'put the cyan block on red bowl'\n",
    "resp = infer_greedy(extended_prompt, q, max_length=128, stop_tokens=['#'])\n",
    "print(resp)"
   ],
   "metadata": {
    "collapsed": false
   }
  },
  {
   "cell_type": "markdown",
   "id": "9ca8a52b",
   "metadata": {},
   "source": [
    "Do not replicate the paper's function definitions. Needs work."
   ]
  },
  {
   "cell_type": "markdown",
   "id": "dcb4665e",
   "metadata": {},
   "source": [
    "# Synthetic Domain Setup"
   ]
  },
  {
   "cell_type": "markdown",
   "id": "d6868f59",
   "metadata": {},
   "source": [
    "We first generate a toy synthetic environmnet of 2D blocks (squares) and bowls (circles) in red, blue, green, cyan and gray color and different sizes. The generated image simulates a panoramic view from a sensor in a tabletop environment."
   ]
  },
  {
   "cell_type": "code",
   "execution_count": 58,
   "id": "aca1a076",
   "metadata": {
    "tags": [
     "hide-input"
    ]
   },
   "outputs": [],
   "source": [
    "import cv2\n",
    "from matplotlib import pyplot as plt\n",
    "import numpy as np\n",
    "import random\n",
    "from pprint import pprint\n",
    "\n",
    "N_MAX_OBJECTS = 8\n",
    "IMG_SIZE = [224, 224]\n",
    "OBJECTS = ['block', 'bowl']\n",
    "COLORS = {\n",
    "    'red'   : (0,0,0xff),\n",
    "    'green' : (0,0xff,0),\n",
    "    'blue' : (0xff,0,0),\n",
    "    'cyan' : (0xff,0xff,0),\n",
    "    'gray' : (88, 88, 88)\n",
    "}\n",
    "TABLE_COLOR = (0, 102, 204)\n",
    "SIZES = {\n",
    "    'block' : [8, 17],\n",
    "    'bowl': [15, 20]\n",
    "}\n",
    "\n",
    "\n",
    "class ToyEnv:\n",
    "    img_size = IMG_SIZE\n",
    "    object_list = OBJECTS \n",
    "    colors = COLORS \n",
    "    sizes = SIZES \n",
    "    table_color = TABLE_COLOR \n",
    "    n_max_objects = N_MAX_OBJECTS\n",
    "\n",
    "    def __init__(self, n_objects=None):\n",
    "        self.reset(n_objects)\n",
    "\n",
    "    def spawn_table(self):\n",
    "        table =  np.zeros([*self.img_size, 3], dtype=np.uint8)\n",
    "        table[..., 0] = TABLE_COLOR[0]\n",
    "        table[..., 1] = TABLE_COLOR[1]\n",
    "        table[..., 2] = TABLE_COLOR[2]\n",
    "        return table\n",
    "\n",
    "    @staticmethod\n",
    "    def show(img):\n",
    "        if len(img.shape) == 3:\n",
    "            img = cv2.cvtColor(img.copy(), cv2.COLOR_BGR2RGB)\n",
    "        plt.imshow(img, interpolation='nearest')\n",
    "        plt.show()\n",
    "\n",
    "    def draw_bowl(self, img, pos, col, rad):\n",
    "        cx, cy = pos\n",
    "        res =  cv2.circle(img.copy(), (cx, cy), rad, self.colors[col], -1)\n",
    "        res =  cv2.circle(res, (cx, cy), rad, (0,0,0), 1)\n",
    "        mask =  cv2.circle(np.zeros(self.img_size, dtype=np.uint8), (cx, cy), rad, 0xff, -1)\n",
    "        return res, mask\n",
    "\n",
    "    def draw_block(self, img, pos, col, a):\n",
    "        Ax, Ay = int(pos[0] - a/2), int(pos[1] - a/2)\n",
    "        Bx, By = int(pos[0] + a/2), int(pos[1] + a/2)\n",
    "        res =  cv2.rectangle(img.copy(), (Ax, Ay), (Bx, By), self.colors[col], -1)\n",
    "        res =  cv2.rectangle(res, (Ax, Ay), (Bx, By), (0,0,0), 1)\n",
    "        mask =  cv2.rectangle(np.zeros(self.img_size, dtype=np.uint8), (Ax, Ay), (Bx, By), 0xff, -1)\n",
    "        return res, mask\n",
    "\n",
    "    @staticmethod\n",
    "    def is_near(pos, previous_pos, dist_thresh=60):\n",
    "        if not previous_pos:\n",
    "            return False\n",
    "        pos = np.tile(np.array(pos), (len(previous_pos), 1)) # B x 2\n",
    "        previous_pos = np.array(previous_pos) # B x 2\n",
    "        return (np.linalg.norm(pos - previous_pos, axis=1) <= dist_thresh).sum() > 0\n",
    "\n",
    "    def generate_synthetic_scene(self, n_objects):\n",
    "        scene = self.spawn_table()\n",
    "        metadata = []\n",
    "        previous_pos = []\n",
    "        spawn_objects = random.choices(self.object_list, k=n_objects)\n",
    "        spawn_colors = random.choices(list(self.colors.keys()), k=n_objects)\n",
    "        for obj, color in zip(spawn_objects, spawn_colors):\n",
    "            tries = 0\n",
    "            while tries < 100:\n",
    "                position = np.random.randint(low=31, high=199, size=(2,)).tolist()\n",
    "                if not self.is_near(position, previous_pos):\n",
    "                    break\n",
    "                tries += 1\n",
    "            if tries == 100:\n",
    "                print('Skipping object, doesnt fit.')\n",
    "                continue\n",
    "            param = np.random.randint(low=self.sizes[obj][0], high=self.sizes[obj][1], size=(1,))[0]\n",
    "            scene, mask = eval(f'self.draw_{obj}')(scene, position, color, param)\n",
    "            metadata.append({'object': f'{color} {obj}', 'pos': position, 'mask': mask, 'param': param})\n",
    "            previous_pos.append(position)\n",
    "        return scene, metadata\n",
    "\n",
    "    def reset(self, n_objects=None):\n",
    "        if n_objects is None:\n",
    "            n_objects = np.random.randint(low=1, high=self.n_max_objects+1, size=(1,))[0]\n",
    "        scene, metadata = self.generate_synthetic_scene(n_objects)\n",
    "        self.scene = scene  \n",
    "        self.metadata = metadata\n",
    "\n",
    "    def display(self):\n",
    "        self.show(self.scene)\n",
    "\n",
    "    def get_state(self):\n",
    "        return self.scene, self.metadata\n",
    "\n",
    "    def set_state(self, scene, metadata):\n",
    "        self.scene, self.metadata = scene, metadata"
   ]
  },
  {
   "cell_type": "code",
   "execution_count": 73,
   "id": "6ef46a1e",
   "metadata": {},
   "outputs": [
    {
     "name": "stdout",
     "output_type": "stream",
     "text": [
      "Skipping object, doesnt fit.\n"
     ]
    },
    {
     "data": {
      "text/plain": "<Figure size 640x480 with 1 Axes>",
      "image/png": "[encoded data removed]"
     },
     "metadata": {},
     "output_type": "display_data"
    }
   ],
   "source": [
    "env = ToyEnv(7)\n",
    "env.display()"
   ]
  },
  {
   "cell_type": "markdown",
   "id": "24a2e0b7",
   "metadata": {},
   "source": [
    "For the purpose of this notebook, our \"perception\" module is just looking up the metadata to return the queried object's properties, such as 2D position ``get_pos``, pixel-level mask ``get_mask`` and size ``get_param`` (radius for bowl, side length for block)"
   ]
  },
  {
   "cell_type": "code",
   "execution_count": 60,
   "id": "66197511",
   "metadata": {
    "tags": [
     "hide-input"
    ]
   },
   "outputs": [],
   "source": [
    "# \"Perception\" API\n",
    "\n",
    "def get_pos(query):\n",
    "    metadata = env.metadata\n",
    "    # return position of queried object\n",
    "    all_objs = [o['object'] for o in metadata]\n",
    "    if query not in all_objs:\n",
    "        raise ValueError(f'{query} doesnt exist in scene')\n",
    "    return metadata[all_objs.index(query)]['pos'] # assuming uniqueness\n",
    "\n",
    "def get_mask(query):\n",
    "    metadata = env.metadata\n",
    "    # return np.uint8 mask of queried object\n",
    "    all_objs = [o['object'] for o in metadata]\n",
    "    if query not in all_objs:\n",
    "        raise ValueError(f'{query} doesnt exist in scene')\n",
    "    return metadata[all_objs.index(query)]['mask'] # assuming uniqueness\n",
    "\n",
    "\n",
    "def get_param(query):\n",
    "    metadata = env.metadata\n",
    "    # return position of queried object\n",
    "    all_objs = [o['object'] for o in metadata]\n",
    "    if query not in all_objs:\n",
    "        raise ValueError(f'{query} doesnt exist in scene')\n",
    "    return metadata[all_objs.index(query)]['param'] # assuming uniqueness"
   ]
  },
  {
   "cell_type": "code",
   "execution_count": 74,
   "id": "4cadada6",
   "metadata": {},
   "outputs": [
    {
     "name": "stdout",
     "output_type": "stream",
     "text": [
      "[112, 154]\n",
      "16\n"
     ]
    },
    {
     "data": {
      "text/plain": "<Figure size 640x480 with 1 Axes>",
      "image/png": "[encoded data removed]"
     },
     "metadata": {},
     "output_type": "display_data"
    }
   ],
   "source": [
    "print(get_pos('gray bowl'))\n",
    "print(get_param('gray bowl'))\n",
    "env.show(get_mask('gray bowl'))"
   ]
  },
  {
   "cell_type": "markdown",
   "id": "b5f91c65",
   "metadata": {},
   "source": [
    "Similarly, our ``pick_and_place`` control primitive is simulated with just deleting the object and respawning it in the target position."
   ]
  },
  {
   "cell_type": "code",
   "execution_count": 75,
   "id": "682fac90",
   "metadata": {},
   "outputs": [],
   "source": [
    "# \"Control\" API\n",
    "\n",
    "def show_action(before, after, title):\n",
    "    before = cv2.cvtColor(before, cv2.COLOR_BGR2RGB)\n",
    "    after = cv2.cvtColor(after, cv2.COLOR_BGR2RGB)  \n",
    "    f = plt.figure()\n",
    "    f.suptitle(title, fontsize=12)\n",
    "    f.add_subplot(1,2, 1)\n",
    "    plt.title('before')\n",
    "    plt.imshow(before)\n",
    "    f.add_subplot(1,2, 2)\n",
    "    plt.title('after')\n",
    "    plt.imshow(after)\n",
    "    plt.show(block=True)\n",
    "\n",
    "    \n",
    "def pick_and_place(source, \n",
    "                   target,\n",
    "                   display=True\n",
    "):\n",
    "    scene, metadata = env.get_state()\n",
    "    assert isinstance(source, str), 'first argument is object description'\n",
    "    before = scene.copy()\n",
    "    all_objs = [o['object'] for o in metadata]\n",
    "    source_mask, source_param = get_mask(source), get_param(source)\n",
    "    # delete it from scene while leaving other objects intact\n",
    "    #scene[source_mask == 0xff] = 0\n",
    "    scene = env.spawn_table()\n",
    "    _ = metadata.pop(all_objs.index(source)) # assuming uniqueness\n",
    "    for obj in metadata:\n",
    "        _color, _shape = obj['object'].split()\n",
    "        _pos, _param = obj['pos'], obj['param']\n",
    "        scene, _ = eval(f'env.draw_{_shape}')(scene, _pos, _color, _param)\n",
    "    # paste it in target position\n",
    "    target_pos = get_pos(target) if isinstance(target, str) else target \n",
    "    color, shape = source.split()\n",
    "    scene, target_mask = eval(f'env.draw_{shape}')(scene, target_pos, color, source_param)\n",
    "    metadata.append({'object': source, 'pos': target_pos, 'mask': target_mask, 'param':source_param})\n",
    "    if display:\n",
    "        show_action(before, scene.copy(), f\"pick_and_place({source}, {target})\")\n",
    "    env.set_state(scene, metadata)"
   ]
  },
  {
   "cell_type": "code",
   "execution_count": 76,
   "id": "b083bed9",
   "metadata": {},
   "outputs": [
    {
     "data": {
      "text/plain": "<Figure size 640x480 with 1 Axes>",
      "image/png": "[encoded data removed]"
     },
     "metadata": {},
     "output_type": "display_data"
    }
   ],
   "source": [
    "#env.reset(8)\n",
    "env.display()"
   ]
  },
  {
   "cell_type": "code",
   "execution_count": 64,
   "id": "574e9ae2",
   "metadata": {
    "scrolled": true
   },
   "outputs": [
    {
     "data": {
      "text/plain": "<Figure size 640x480 with 2 Axes>",
      "image/png": "[encoded data removed]"
     },
     "metadata": {},
     "output_type": "display_data"
    }
   ],
   "source": [
    "pick_and_place('red block', 'blue bowl')"
   ]
  },
  {
   "cell_type": "code",
   "execution_count": 67,
   "id": "5ee4eb97",
   "metadata": {},
   "outputs": [
    {
     "data": {
      "text/plain": "<Figure size 640x480 with 2 Axes>",
      "image/png": "[encoded data removed]"
     },
     "metadata": {},
     "output_type": "display_data"
    }
   ],
   "source": [
    "pick_and_place('gray bowl', [100, 150])"
   ]
  },
  {
   "cell_type": "code",
   "execution_count": 77,
   "id": "8a38821f",
   "metadata": {},
   "outputs": [
    {
     "ename": "ValueError",
     "evalue": "gray block doesnt exist in scene",
     "output_type": "error",
     "traceback": [
      "\u001B[1;31m---------------------------------------------------------------------------\u001B[0m",
      "\u001B[1;31mValueError\u001B[0m                                Traceback (most recent call last)",
      "Cell \u001B[1;32mIn [77], line 1\u001B[0m\n\u001B[1;32m----> 1\u001B[0m \u001B[43mpick_and_place\u001B[49m\u001B[43m(\u001B[49m\u001B[38;5;124;43m'\u001B[39;49m\u001B[38;5;124;43mgray block\u001B[39;49m\u001B[38;5;124;43m'\u001B[39;49m\u001B[43m,\u001B[49m\u001B[43m \u001B[49m\u001B[38;5;124;43m'\u001B[39;49m\u001B[38;5;124;43mgray bowl\u001B[39;49m\u001B[38;5;124;43m'\u001B[39;49m\u001B[43m)\u001B[49m\n\u001B[0;32m      2\u001B[0m pick_and_place(\u001B[38;5;124m'\u001B[39m\u001B[38;5;124mblue block\u001B[39m\u001B[38;5;124m'\u001B[39m, \u001B[38;5;124m'\u001B[39m\u001B[38;5;124mgray bowl\u001B[39m\u001B[38;5;124m'\u001B[39m)\n\u001B[0;32m      3\u001B[0m pick_and_place(\u001B[38;5;124m'\u001B[39m\u001B[38;5;124mcyan block\u001B[39m\u001B[38;5;124m'\u001B[39m, \u001B[38;5;124m'\u001B[39m\u001B[38;5;124mgray bowl\u001B[39m\u001B[38;5;124m'\u001B[39m)\n",
      "Cell \u001B[1;32mIn [75], line 25\u001B[0m, in \u001B[0;36mpick_and_place\u001B[1;34m(source, target, display)\u001B[0m\n\u001B[0;32m     23\u001B[0m before \u001B[38;5;241m=\u001B[39m scene\u001B[38;5;241m.\u001B[39mcopy()\n\u001B[0;32m     24\u001B[0m all_objs \u001B[38;5;241m=\u001B[39m [o[\u001B[38;5;124m'\u001B[39m\u001B[38;5;124mobject\u001B[39m\u001B[38;5;124m'\u001B[39m] \u001B[38;5;28;01mfor\u001B[39;00m o \u001B[38;5;129;01min\u001B[39;00m metadata]\n\u001B[1;32m---> 25\u001B[0m source_mask, source_param \u001B[38;5;241m=\u001B[39m \u001B[43mget_mask\u001B[49m\u001B[43m(\u001B[49m\u001B[43msource\u001B[49m\u001B[43m)\u001B[49m, get_param(source)\n\u001B[0;32m     26\u001B[0m \u001B[38;5;66;03m# delete it from scene while leaving other objects intact\u001B[39;00m\n\u001B[0;32m     27\u001B[0m \u001B[38;5;66;03m#scene[source_mask == 0xff] = 0\u001B[39;00m\n\u001B[0;32m     28\u001B[0m scene \u001B[38;5;241m=\u001B[39m env\u001B[38;5;241m.\u001B[39mspawn_table()\n",
      "Cell \u001B[1;32mIn [60], line 16\u001B[0m, in \u001B[0;36mget_mask\u001B[1;34m(query)\u001B[0m\n\u001B[0;32m     14\u001B[0m all_objs \u001B[38;5;241m=\u001B[39m [o[\u001B[38;5;124m'\u001B[39m\u001B[38;5;124mobject\u001B[39m\u001B[38;5;124m'\u001B[39m] \u001B[38;5;28;01mfor\u001B[39;00m o \u001B[38;5;129;01min\u001B[39;00m metadata]\n\u001B[0;32m     15\u001B[0m \u001B[38;5;28;01mif\u001B[39;00m query \u001B[38;5;129;01mnot\u001B[39;00m \u001B[38;5;129;01min\u001B[39;00m all_objs:\n\u001B[1;32m---> 16\u001B[0m     \u001B[38;5;28;01mraise\u001B[39;00m \u001B[38;5;167;01mValueError\u001B[39;00m(\u001B[38;5;124mf\u001B[39m\u001B[38;5;124m'\u001B[39m\u001B[38;5;132;01m{\u001B[39;00mquery\u001B[38;5;132;01m}\u001B[39;00m\u001B[38;5;124m doesnt exist in scene\u001B[39m\u001B[38;5;124m'\u001B[39m)\n\u001B[0;32m     17\u001B[0m \u001B[38;5;28;01mreturn\u001B[39;00m metadata[all_objs\u001B[38;5;241m.\u001B[39mindex(query)][\u001B[38;5;124m'\u001B[39m\u001B[38;5;124mmask\u001B[39m\u001B[38;5;124m'\u001B[39m]\n",
      "\u001B[1;31mValueError\u001B[0m: gray block doesnt exist in scene"
     ]
    }
   ],
   "source": [
    "pick_and_place('gray block', 'gray bowl')\n",
    "pick_and_place('blue block', 'gray bowl')\n",
    "pick_and_place('cyan block', 'gray bowl')\n",
    "pick_and_place('blue bowl', [112,112])\n",
    "pick_and_place('blue bowl', [112, 112])\n"
   ]
  },
  {
   "cell_type": "markdown",
   "id": "0116b6b4",
   "metadata": {},
   "source": [
    "We can control a \"robot\" for tabletop pick&place tasks. Can we use Bloom to parse arbitrary task descriptions to executable Python programs using our primitive APIs?"
   ]
  },
  {
   "cell_type": "markdown",
   "id": "92cf38c3",
   "metadata": {},
   "source": [
    "# Interactive Tabletop Manipulation"
   ]
  },
  {
   "cell_type": "markdown",
   "id": "d79e1031",
   "metadata": {},
   "source": [
    "Adapt from [here](https://github.com/google-research/google-research/blob/master/code_as_policies/Interactive_Demo.ipynb)"
   ]
  },
  {
   "cell_type": "code",
   "execution_count": null,
   "id": "7d042fb8",
   "metadata": {},
   "outputs": [],
   "source": []
  }
 ],
 "metadata": {
  "kernelspec": {
   "display_name": "Python 3",
   "language": "python",
   "name": "python3"
  },
  "language_info": {
   "codemirror_mode": {
    "name": "ipython",
    "version": 3
   },
   "file_extension": ".py",
   "mimetype": "text/x-python",
   "name": "python",
   "nbconvert_exporter": "python",
   "pygments_lexer": "ipython3",
   "version": "3.6.9"
  }
 },
 "nbformat": 4,
 "nbformat_minor": 5
}
